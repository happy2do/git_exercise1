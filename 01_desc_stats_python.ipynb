{
 "cells": [
  {
   "cell_type": "markdown",
   "id": "9cde435b",
   "metadata": {},
   "source": [
    "# <font color=\"green\">Descriptive Statistics with Python</font>"
   ]
  },
  {
   "cell_type": "markdown",
   "id": "4da7e6e2",
   "metadata": {},
   "source": [
    "---------------------------------"
   ]
  },
  {
   "cell_type": "markdown",
   "id": "610d640b",
   "metadata": {},
   "source": [
    "**Welcome** to our lesson on **Descriptive Statistics with Python**! In the vast ocean of data that surrounds us, the ability to make sense of data is an invaluable skill. Descriptive statistics is the branch of statistics that focuses on collecting, summarizing, and presenting data in a way that provides insight into the patterns and relationships within that data. It’s about describing and understanding our data before we make any assumptions or predictions.\n",
    "\n"
   ]
  },
  {
   "cell_type": "markdown",
   "id": "ada244e0",
   "metadata": {},
   "source": [
    "----------------------------"
   ]
  },
  {
   "cell_type": "code",
   "execution_count": null,
   "id": "a3e71d14",
   "metadata": {},
   "outputs": [],
   "source": []
  },
  {
   "cell_type": "code",
   "execution_count": 1,
   "id": "e9e188b3",
   "metadata": {},
   "outputs": [],
   "source": [
    "import matplotlib.pyplot as plt\n",
    "import seaborn as sns\n",
    "import pandas as pd\n",
    "import numpy as np\n",
    "%matplotlib inline"
   ]
  },
  {
   "cell_type": "code",
   "execution_count": 2,
   "id": "a30504b3",
   "metadata": {},
   "outputs": [],
   "source": [
    "penguins = pd.read_csv(\"./data/penguins_clean.csv\")"
   ]
  },
  {
   "cell_type": "code",
   "execution_count": 3,
   "id": "2ebff059",
   "metadata": {},
   "outputs": [
    {
     "data": {
      "text/html": [
       "<div>\n",
       "<style scoped>\n",
       "    .dataframe tbody tr th:only-of-type {\n",
       "        vertical-align: middle;\n",
       "    }\n",
       "\n",
       "    .dataframe tbody tr th {\n",
       "        vertical-align: top;\n",
       "    }\n",
       "\n",
       "    .dataframe thead th {\n",
       "        text-align: right;\n",
       "    }\n",
       "</style>\n",
       "<table border=\"1\" class=\"dataframe\">\n",
       "  <thead>\n",
       "    <tr style=\"text-align: right;\">\n",
       "      <th></th>\n",
       "      <th>species</th>\n",
       "      <th>island</th>\n",
       "      <th>bill_length_mm</th>\n",
       "      <th>bill_depth_mm</th>\n",
       "      <th>flipper_length_mm</th>\n",
       "      <th>body_mass_g</th>\n",
       "      <th>sex</th>\n",
       "    </tr>\n",
       "  </thead>\n",
       "  <tbody>\n",
       "    <tr>\n",
       "      <th>0</th>\n",
       "      <td>Adelie</td>\n",
       "      <td>Torgersen</td>\n",
       "      <td>39.1</td>\n",
       "      <td>18.7</td>\n",
       "      <td>181.0</td>\n",
       "      <td>3750.0</td>\n",
       "      <td>male</td>\n",
       "    </tr>\n",
       "    <tr>\n",
       "      <th>1</th>\n",
       "      <td>Adelie</td>\n",
       "      <td>Torgersen</td>\n",
       "      <td>39.5</td>\n",
       "      <td>17.4</td>\n",
       "      <td>186.0</td>\n",
       "      <td>3800.0</td>\n",
       "      <td>female</td>\n",
       "    </tr>\n",
       "    <tr>\n",
       "      <th>2</th>\n",
       "      <td>Adelie</td>\n",
       "      <td>Torgersen</td>\n",
       "      <td>40.3</td>\n",
       "      <td>18.0</td>\n",
       "      <td>195.0</td>\n",
       "      <td>3250.0</td>\n",
       "      <td>female</td>\n",
       "    </tr>\n",
       "    <tr>\n",
       "      <th>3</th>\n",
       "      <td>Adelie</td>\n",
       "      <td>Torgersen</td>\n",
       "      <td>36.7</td>\n",
       "      <td>19.3</td>\n",
       "      <td>193.0</td>\n",
       "      <td>3450.0</td>\n",
       "      <td>female</td>\n",
       "    </tr>\n",
       "    <tr>\n",
       "      <th>4</th>\n",
       "      <td>Adelie</td>\n",
       "      <td>Torgersen</td>\n",
       "      <td>39.3</td>\n",
       "      <td>20.6</td>\n",
       "      <td>190.0</td>\n",
       "      <td>3650.0</td>\n",
       "      <td>male</td>\n",
       "    </tr>\n",
       "  </tbody>\n",
       "</table>\n",
       "</div>"
      ],
      "text/plain": [
       "  species     island  bill_length_mm  bill_depth_mm  flipper_length_mm  \\\n",
       "0  Adelie  Torgersen            39.1           18.7              181.0   \n",
       "1  Adelie  Torgersen            39.5           17.4              186.0   \n",
       "2  Adelie  Torgersen            40.3           18.0              195.0   \n",
       "3  Adelie  Torgersen            36.7           19.3              193.0   \n",
       "4  Adelie  Torgersen            39.3           20.6              190.0   \n",
       "\n",
       "   body_mass_g     sex  \n",
       "0       3750.0    male  \n",
       "1       3800.0  female  \n",
       "2       3250.0  female  \n",
       "3       3450.0  female  \n",
       "4       3650.0    male  "
      ]
     },
     "execution_count": 3,
     "metadata": {},
     "output_type": "execute_result"
    }
   ],
   "source": [
    "penguins.head()"
   ]
  },
  {
   "cell_type": "code",
   "execution_count": 4,
   "id": "ad822ea6",
   "metadata": {},
   "outputs": [
    {
     "name": "stdout",
     "output_type": "stream",
     "text": [
      "<class 'pandas.core.frame.DataFrame'>\n",
      "RangeIndex: 333 entries, 0 to 332\n",
      "Data columns (total 7 columns):\n",
      " #   Column             Non-Null Count  Dtype  \n",
      "---  ------             --------------  -----  \n",
      " 0   species            333 non-null    object \n",
      " 1   island             333 non-null    object \n",
      " 2   bill_length_mm     333 non-null    float64\n",
      " 3   bill_depth_mm      333 non-null    float64\n",
      " 4   flipper_length_mm  333 non-null    float64\n",
      " 5   body_mass_g        333 non-null    float64\n",
      " 6   sex                333 non-null    object \n",
      "dtypes: float64(4), object(3)\n",
      "memory usage: 18.3+ KB\n"
     ]
    }
   ],
   "source": [
    "penguins.info()"
   ]
  },
  {
   "cell_type": "code",
   "execution_count": 5,
   "id": "7ea1ff83",
   "metadata": {},
   "outputs": [
    {
     "data": {
      "text/html": [
       "<div>\n",
       "<style scoped>\n",
       "    .dataframe tbody tr th:only-of-type {\n",
       "        vertical-align: middle;\n",
       "    }\n",
       "\n",
       "    .dataframe tbody tr th {\n",
       "        vertical-align: top;\n",
       "    }\n",
       "\n",
       "    .dataframe thead th {\n",
       "        text-align: right;\n",
       "    }\n",
       "</style>\n",
       "<table border=\"1\" class=\"dataframe\">\n",
       "  <thead>\n",
       "    <tr style=\"text-align: right;\">\n",
       "      <th></th>\n",
       "      <th>bill_length_mm</th>\n",
       "      <th>bill_depth_mm</th>\n",
       "      <th>flipper_length_mm</th>\n",
       "      <th>body_mass_g</th>\n",
       "    </tr>\n",
       "  </thead>\n",
       "  <tbody>\n",
       "    <tr>\n",
       "      <th>count</th>\n",
       "      <td>333.000000</td>\n",
       "      <td>333.000000</td>\n",
       "      <td>333.000000</td>\n",
       "      <td>333.000000</td>\n",
       "    </tr>\n",
       "    <tr>\n",
       "      <th>mean</th>\n",
       "      <td>43.992793</td>\n",
       "      <td>17.164865</td>\n",
       "      <td>200.966967</td>\n",
       "      <td>4207.057057</td>\n",
       "    </tr>\n",
       "    <tr>\n",
       "      <th>std</th>\n",
       "      <td>5.468668</td>\n",
       "      <td>1.969235</td>\n",
       "      <td>14.015765</td>\n",
       "      <td>805.215802</td>\n",
       "    </tr>\n",
       "    <tr>\n",
       "      <th>min</th>\n",
       "      <td>32.100000</td>\n",
       "      <td>13.100000</td>\n",
       "      <td>172.000000</td>\n",
       "      <td>2700.000000</td>\n",
       "    </tr>\n",
       "    <tr>\n",
       "      <th>25%</th>\n",
       "      <td>39.500000</td>\n",
       "      <td>15.600000</td>\n",
       "      <td>190.000000</td>\n",
       "      <td>3550.000000</td>\n",
       "    </tr>\n",
       "    <tr>\n",
       "      <th>50%</th>\n",
       "      <td>44.500000</td>\n",
       "      <td>17.300000</td>\n",
       "      <td>197.000000</td>\n",
       "      <td>4050.000000</td>\n",
       "    </tr>\n",
       "    <tr>\n",
       "      <th>75%</th>\n",
       "      <td>48.600000</td>\n",
       "      <td>18.700000</td>\n",
       "      <td>213.000000</td>\n",
       "      <td>4775.000000</td>\n",
       "    </tr>\n",
       "    <tr>\n",
       "      <th>max</th>\n",
       "      <td>59.600000</td>\n",
       "      <td>21.500000</td>\n",
       "      <td>231.000000</td>\n",
       "      <td>6300.000000</td>\n",
       "    </tr>\n",
       "  </tbody>\n",
       "</table>\n",
       "</div>"
      ],
      "text/plain": [
       "       bill_length_mm  bill_depth_mm  flipper_length_mm  body_mass_g\n",
       "count      333.000000     333.000000         333.000000   333.000000\n",
       "mean        43.992793      17.164865         200.966967  4207.057057\n",
       "std          5.468668       1.969235          14.015765   805.215802\n",
       "min         32.100000      13.100000         172.000000  2700.000000\n",
       "25%         39.500000      15.600000         190.000000  3550.000000\n",
       "50%         44.500000      17.300000         197.000000  4050.000000\n",
       "75%         48.600000      18.700000         213.000000  4775.000000\n",
       "max         59.600000      21.500000         231.000000  6300.000000"
      ]
     },
     "execution_count": 5,
     "metadata": {},
     "output_type": "execute_result"
    }
   ],
   "source": [
    "# numerical columns stats\n",
    "penguins.describe()"
   ]
  },
  {
   "cell_type": "code",
   "execution_count": 6,
   "id": "47e037bb",
   "metadata": {},
   "outputs": [
    {
     "data": {
      "text/html": [
       "<div>\n",
       "<style scoped>\n",
       "    .dataframe tbody tr th:only-of-type {\n",
       "        vertical-align: middle;\n",
       "    }\n",
       "\n",
       "    .dataframe tbody tr th {\n",
       "        vertical-align: top;\n",
       "    }\n",
       "\n",
       "    .dataframe thead th {\n",
       "        text-align: right;\n",
       "    }\n",
       "</style>\n",
       "<table border=\"1\" class=\"dataframe\">\n",
       "  <thead>\n",
       "    <tr style=\"text-align: right;\">\n",
       "      <th></th>\n",
       "      <th>species</th>\n",
       "      <th>island</th>\n",
       "      <th>sex</th>\n",
       "    </tr>\n",
       "  </thead>\n",
       "  <tbody>\n",
       "    <tr>\n",
       "      <th>count</th>\n",
       "      <td>333</td>\n",
       "      <td>333</td>\n",
       "      <td>333</td>\n",
       "    </tr>\n",
       "    <tr>\n",
       "      <th>unique</th>\n",
       "      <td>3</td>\n",
       "      <td>3</td>\n",
       "      <td>2</td>\n",
       "    </tr>\n",
       "    <tr>\n",
       "      <th>top</th>\n",
       "      <td>Adelie</td>\n",
       "      <td>Biscoe</td>\n",
       "      <td>male</td>\n",
       "    </tr>\n",
       "    <tr>\n",
       "      <th>freq</th>\n",
       "      <td>146</td>\n",
       "      <td>163</td>\n",
       "      <td>168</td>\n",
       "    </tr>\n",
       "  </tbody>\n",
       "</table>\n",
       "</div>"
      ],
      "text/plain": [
       "       species  island   sex\n",
       "count      333     333   333\n",
       "unique       3       3     2\n",
       "top     Adelie  Biscoe  male\n",
       "freq       146     163   168"
      ]
     },
     "execution_count": 6,
     "metadata": {},
     "output_type": "execute_result"
    }
   ],
   "source": [
    "# categorical columns stats\n",
    "\n",
    "penguins.describe(include='object')"
   ]
  },
  {
   "cell_type": "code",
   "execution_count": 7,
   "id": "67073610",
   "metadata": {},
   "outputs": [
    {
     "data": {
      "text/plain": [
       "species  \n",
       "Adelie       0.438438\n",
       "Gentoo       0.357357\n",
       "Chinstrap    0.204204\n",
       "Name: proportion, dtype: float64"
      ]
     },
     "execution_count": 7,
     "metadata": {},
     "output_type": "execute_result"
    }
   ],
   "source": [
    "penguins[['species']].value_counts(normalize=True)"
   ]
  },
  {
   "cell_type": "markdown",
   "id": "c83a8299",
   "metadata": {},
   "source": [
    "## Overview of Statistics in Data Analysis\n",
    "\n",
    "Statistics encompass a comprehensive set of methods and measures dedicated to the systematic handling of data. This includes collecting, cleaning, analyzing datasets, and subsequently making quantitative assertions about a broader population or phenomena. The essence of statistical analysis lies in its dual approach: **Descriptive Statistics** and **Inferential Statistics**. Both play pivotal roles in understanding and extrapolating data insights but serve distinct purposes in the realm of data analysis.\n",
    "\n",
    "### Descriptive Statistics\n",
    "\n",
    "Descriptive statistics aim to succinctly describe and summarize the main features of a dataset. This approach focuses on presenting the data in a manner that is easily understandable, often through measures of central tendency and variability, along with data visualization techniques.\n",
    "\n",
    "- **Characteristics:**\n",
    "  - Simplifies large datasets to understandable forms without losing critical information.\n",
    "  - Utilizes metrics such as mean, median, mode, standard deviation, and variance to describe data attributes.\n",
    "- **Examples:**\n",
    "  - **Average Temperature of Berlin in January:** Calculating the mean temperature from daily readings provides a descriptive statistic that summarizes the month's climate.\n",
    "\n",
    "### Inferential Statistics\n",
    "\n",
    "Inferential statistics go a step further by using the data collected from a sample to make predictions or inferences about the larger population from which the sample was drawn. This branch of statistics relies on probability theory to estimate population parameters, test hypotheses, and make predictions.\n",
    "\n",
    "- **Characteristics:**\n",
    "  - Allows for predictions and generalizations about a population based on sample data.\n",
    "  - Employs statistical models and hypothesis testing to draw conclusions.\n",
    "- **Examples:**\n",
    "  - **Predicting Tomorrow's Temperature in Berlin:** By using historical data and current trends, inferential statistics can forecast future conditions. This predictive power is rooted in statistical models that analyze past and present data to estimate future outcomes.\n",
    "\n",
    "### The Interplay Between Descriptive and Inferential Statistics\n",
    "\n",
    "While descriptive statistics provide a snapshot of the current state of data, inferential statistics enable the leap from observations to generalizations about a larger group. The synergy between these two methodologies forms the backbone of statistical analysis, allowing researchers and analysts to not only understand what has happened but also to predict what could happen in the future. Understanding this dual approach is fundamental for anyone looking to extract meaningful insights from data.\n",
    "\n"
   ]
  },
  {
   "cell_type": "markdown",
   "id": "cbaa1ec8",
   "metadata": {},
   "source": [
    "----------------------------------------"
   ]
  },
  {
   "cell_type": "markdown",
   "id": "87435b59",
   "metadata": {},
   "source": [
    "# What is a population ? What is a sample ?"
   ]
  },
  {
   "cell_type": "markdown",
   "id": "8c5125b2",
   "metadata": {},
   "source": [
    "--------------------------------------------"
   ]
  },
  {
   "cell_type": "markdown",
   "id": "a3a35382",
   "metadata": {},
   "source": [
    "### What is a Population?\n",
    "\n",
    "A **population** in statistics refers to the complete set of items or individuals that share one or more characteristics from which data can be gathered and analyzed. This group is the total ensemble of units under study and represents the entire scope of data from which a statistical analysis seeks to draw conclusions. Populations are not limited to people or organisms but can extend to objects, events, or measurements that are relevant to the research question.\n",
    "\n",
    "- **Characteristics:**\n",
    "  - Encompasses all members of a defined group being studied.\n",
    "  - Serves as the basis for statistical inferences when analyzing a subset (sample).\n",
    "  - Ideal for study when practical, but often too large or inaccessible, necessitating the use of samples.\n",
    "\n",
    "### What is a Sample?\n",
    "\n",
    "A **sample** is a subset of the population that is selected for the actual conduct of the study. It is a smaller collection of units from the population intended to represent the larger group in such a way that conclusions drawn from the sample can be statistically inferred to the population. Effective sampling methods are crucial for ensuring that the sample accurately reflects the population, allowing for reliable and valid inferences.\n",
    "\n",
    "- **Characteristics:**\n",
    "  - A representative segment of the population, chosen for practicality and efficiency in research.\n",
    "  - Utilized to estimate or make inferences about the population characteristics.\n",
    "  - The method of selection and size of the sample are critical to the accuracy and reliability of the study's conclusions.\n",
    "\n",
    "### Understanding the Difference\n",
    "\n",
    "The primary distinction between a population and a sample lies in their scope and purpose within a study. While the population is the whole group of interest, a sample is a manageable portion of this group chosen for actual data collection and analysis. The use of samples is a practical approach to overcoming challenges associated with studying entire populations, such as limitations in time, resources, or accessibility.\n"
   ]
  },
  {
   "cell_type": "markdown",
   "id": "a4725cf5",
   "metadata": {},
   "source": [
    "## Understanding Categorical/Qualitative Variables\n",
    "\n",
    "Categorical or qualitative variables represent types of data that can be divided into groups rather than numerical values. These variables can further be classified into two sub-categories: **Nominal Variables** and **Ordinal Variables**. Understanding the distinction between these types is crucial for proper data handling and analysis, especially in machine learning and statistical modeling.\n",
    "\n",
    "### Nominal Variables\n",
    "\n",
    "Nominal variables consist of discrete categories without any natural order among them. These variables are used to label attributes, identify categories, or classify items based on names or labels that do not imply a ranked order.\n",
    "\n",
    "- **Characteristics:**\n",
    "  - The values or labels for nominal variables do not follow a natural ordering.\n",
    "  - In machine learning (ML), nominal variable labels are often encoded as numbers to facilitate processing, although these numbers do not imply an order.\n",
    "- **Examples:**\n",
    "  - **Location:** Cities or countries (e.g., Berlin, Johannesburg).\n",
    "  - **Nationality:** The country of origin (e.g., Canadian, South African).\n",
    "  - **Postal Codes:** Codes representing geographical areas (e.g., 54296, 50679).\n",
    "  - **Brand Names:** Product brands (e.g., Nike, Adidas).\n",
    "\n",
    "### Ordinal Variables\n",
    "\n",
    "Ordinal variables, while also categorizing data, have a clear, ordered relationship between the categories. The order of the values is meaningful, but the magnitude of the difference between them is not consistently measurable.\n",
    "\n",
    "- **Characteristics:**\n",
    "  - The values of ordinal variables follow a natural order or sequence.\n",
    "  - Similar to nominal variables, ordinal data is often represented numerically in data analysis, though these numbers primarily indicate rank rather than measure.\n",
    "- **Examples:**\n",
    "  - **Movie Ratings:** A range from 5 Stars (excellent) to 1 Star (poor).\n",
    "  - **Evaluations:** Qualitative assessments (e.g., 'Very Good', 'Good', 'Average', 'Poor').\n",
    "  - **Months of the Year:** January (1), February (2), through December (12), where numbers indicate sequence rather than quantity.\n",
    "\n",
    "\n"
   ]
  },
  {
   "cell_type": "markdown",
   "id": "3af41a3f",
   "metadata": {},
   "source": [
    "## Exploring Numeric/Quantitative Variables\n",
    "\n",
    "Numeric or quantitative variables quantify amounts and allow for mathematical operations, providing a basis for most statistical analyses and data science applications. They are broadly categorized into **Continuous Variables** and **Discrete Variables**, each with distinct characteristics and applications.\n",
    "\n",
    "### Continuous Variables\n",
    "\n",
    "Continuous variables can take on an unlimited number of values, either within a specific range or across the entire spectrum of real numbers. These variables can be measured and subdivided into finer and finer increments, depending on the precision of the measurement instrument.\n",
    "\n",
    "- **Characteristics:**\n",
    "  - Possess a theoretically infinite number of possible values.\n",
    "  - Can represent quantities with any level of precision within a defined range or universally.\n",
    "- **Examples:**\n",
    "  - **Unix Time:** Counts the number of seconds since the Unix Epoch (January 1, 1970), exemplifying a continuous measure of time.\n",
    "  - **Height:** Measured in centimeters, height can vary infinitely within the physical limits of human stature.\n",
    "  - **Weight:** Measured in kilograms, weight is a continuous variable that reflects the mass of an object or person.\n",
    "\n",
    "### Discrete Variables\n",
    "\n",
    "In contrast to continuous variables, discrete variables are characterized by a finite or countably infinite set of values. Each value is distinct and separate, and the variable cannot take on values between these distinct points.\n",
    "\n",
    "- **Characteristics:**\n",
    "  - Have a finite or countably infinite number of possible values.\n",
    "  - Represent countable quantities, often resulting from enumeration or counting processes.\n",
    "- **Examples:**\n",
    "  - **Number of Books Delivered by Amazon Each Day:** A countable number of deliveries made within a 24-hour period.\n",
    "  - **Number of Rainy Days per Year:** Each year can have a countable number of days classified as rainy.\n",
    "  - **Number of Daily Patients in a Clinic:** The daily count of patients visiting a clinic is a discrete measure of healthcare demand.\n",
    "  - **Shoe Size:** Though often treated as discrete due to standard sizing, shoe size is a simplified representation of a continuous dimension.\n",
    "\n",
    "### Understanding the Distinction\n",
    "\n",
    "The distinction between continuous and discrete variables is fundamental in statistics and data analysis, affecting the choice of statistical methods and the interpretation of data. Continuous variables allow for an infinite granularity of measurement, while discrete variables deal with distinct counts or classifications. Recognizing the type of variable you're working with is crucial for accurate data analysis and modeling.\n",
    "\n"
   ]
  },
  {
   "cell_type": "markdown",
   "id": "eb12b092",
   "metadata": {},
   "source": [
    "## Common descriptive statistical measures"
   ]
  },
  {
   "cell_type": "code",
   "execution_count": 8,
   "id": "57881b31",
   "metadata": {},
   "outputs": [
    {
     "data": {
      "text/html": [
       "<div>\n",
       "<style scoped>\n",
       "    .dataframe tbody tr th:only-of-type {\n",
       "        vertical-align: middle;\n",
       "    }\n",
       "\n",
       "    .dataframe tbody tr th {\n",
       "        vertical-align: top;\n",
       "    }\n",
       "\n",
       "    .dataframe thead th {\n",
       "        text-align: right;\n",
       "    }\n",
       "</style>\n",
       "<table border=\"1\" class=\"dataframe\">\n",
       "  <thead>\n",
       "    <tr style=\"text-align: right;\">\n",
       "      <th></th>\n",
       "      <th>species</th>\n",
       "      <th>island</th>\n",
       "      <th>bill_length_mm</th>\n",
       "      <th>bill_depth_mm</th>\n",
       "      <th>flipper_length_mm</th>\n",
       "      <th>body_mass_g</th>\n",
       "      <th>sex</th>\n",
       "    </tr>\n",
       "  </thead>\n",
       "  <tbody>\n",
       "    <tr>\n",
       "      <th>0</th>\n",
       "      <td>Adelie</td>\n",
       "      <td>Torgersen</td>\n",
       "      <td>39.1</td>\n",
       "      <td>18.7</td>\n",
       "      <td>181.0</td>\n",
       "      <td>3750.0</td>\n",
       "      <td>male</td>\n",
       "    </tr>\n",
       "    <tr>\n",
       "      <th>1</th>\n",
       "      <td>Adelie</td>\n",
       "      <td>Torgersen</td>\n",
       "      <td>39.5</td>\n",
       "      <td>17.4</td>\n",
       "      <td>186.0</td>\n",
       "      <td>3800.0</td>\n",
       "      <td>female</td>\n",
       "    </tr>\n",
       "    <tr>\n",
       "      <th>2</th>\n",
       "      <td>Adelie</td>\n",
       "      <td>Torgersen</td>\n",
       "      <td>40.3</td>\n",
       "      <td>18.0</td>\n",
       "      <td>195.0</td>\n",
       "      <td>3250.0</td>\n",
       "      <td>female</td>\n",
       "    </tr>\n",
       "    <tr>\n",
       "      <th>3</th>\n",
       "      <td>Adelie</td>\n",
       "      <td>Torgersen</td>\n",
       "      <td>36.7</td>\n",
       "      <td>19.3</td>\n",
       "      <td>193.0</td>\n",
       "      <td>3450.0</td>\n",
       "      <td>female</td>\n",
       "    </tr>\n",
       "    <tr>\n",
       "      <th>4</th>\n",
       "      <td>Adelie</td>\n",
       "      <td>Torgersen</td>\n",
       "      <td>39.3</td>\n",
       "      <td>20.6</td>\n",
       "      <td>190.0</td>\n",
       "      <td>3650.0</td>\n",
       "      <td>male</td>\n",
       "    </tr>\n",
       "    <tr>\n",
       "      <th>...</th>\n",
       "      <td>...</td>\n",
       "      <td>...</td>\n",
       "      <td>...</td>\n",
       "      <td>...</td>\n",
       "      <td>...</td>\n",
       "      <td>...</td>\n",
       "      <td>...</td>\n",
       "    </tr>\n",
       "    <tr>\n",
       "      <th>328</th>\n",
       "      <td>Chinstrap</td>\n",
       "      <td>Dream</td>\n",
       "      <td>55.8</td>\n",
       "      <td>19.8</td>\n",
       "      <td>207.0</td>\n",
       "      <td>4000.0</td>\n",
       "      <td>male</td>\n",
       "    </tr>\n",
       "    <tr>\n",
       "      <th>329</th>\n",
       "      <td>Chinstrap</td>\n",
       "      <td>Dream</td>\n",
       "      <td>43.5</td>\n",
       "      <td>18.1</td>\n",
       "      <td>202.0</td>\n",
       "      <td>3400.0</td>\n",
       "      <td>female</td>\n",
       "    </tr>\n",
       "    <tr>\n",
       "      <th>330</th>\n",
       "      <td>Chinstrap</td>\n",
       "      <td>Dream</td>\n",
       "      <td>49.6</td>\n",
       "      <td>18.2</td>\n",
       "      <td>193.0</td>\n",
       "      <td>3775.0</td>\n",
       "      <td>male</td>\n",
       "    </tr>\n",
       "    <tr>\n",
       "      <th>331</th>\n",
       "      <td>Chinstrap</td>\n",
       "      <td>Dream</td>\n",
       "      <td>50.8</td>\n",
       "      <td>19.0</td>\n",
       "      <td>210.0</td>\n",
       "      <td>4100.0</td>\n",
       "      <td>male</td>\n",
       "    </tr>\n",
       "    <tr>\n",
       "      <th>332</th>\n",
       "      <td>Chinstrap</td>\n",
       "      <td>Dream</td>\n",
       "      <td>50.2</td>\n",
       "      <td>18.7</td>\n",
       "      <td>198.0</td>\n",
       "      <td>3775.0</td>\n",
       "      <td>female</td>\n",
       "    </tr>\n",
       "  </tbody>\n",
       "</table>\n",
       "<p>333 rows × 7 columns</p>\n",
       "</div>"
      ],
      "text/plain": [
       "       species     island  bill_length_mm  bill_depth_mm  flipper_length_mm  \\\n",
       "0       Adelie  Torgersen            39.1           18.7              181.0   \n",
       "1       Adelie  Torgersen            39.5           17.4              186.0   \n",
       "2       Adelie  Torgersen            40.3           18.0              195.0   \n",
       "3       Adelie  Torgersen            36.7           19.3              193.0   \n",
       "4       Adelie  Torgersen            39.3           20.6              190.0   \n",
       "..         ...        ...             ...            ...                ...   \n",
       "328  Chinstrap      Dream            55.8           19.8              207.0   \n",
       "329  Chinstrap      Dream            43.5           18.1              202.0   \n",
       "330  Chinstrap      Dream            49.6           18.2              193.0   \n",
       "331  Chinstrap      Dream            50.8           19.0              210.0   \n",
       "332  Chinstrap      Dream            50.2           18.7              198.0   \n",
       "\n",
       "     body_mass_g     sex  \n",
       "0         3750.0    male  \n",
       "1         3800.0  female  \n",
       "2         3250.0  female  \n",
       "3         3450.0  female  \n",
       "4         3650.0    male  \n",
       "..           ...     ...  \n",
       "328       4000.0    male  \n",
       "329       3400.0  female  \n",
       "330       3775.0    male  \n",
       "331       4100.0    male  \n",
       "332       3775.0  female  \n",
       "\n",
       "[333 rows x 7 columns]"
      ]
     },
     "execution_count": 8,
     "metadata": {},
     "output_type": "execute_result"
    }
   ],
   "source": [
    "penguins"
   ]
  },
  {
   "cell_type": "markdown",
   "id": "5629d7d0",
   "metadata": {},
   "source": [
    "## Measures of Central Tendency: Understanding the Typical Value\n",
    "\n",
    "Measures of central tendency aim to address the crucial question: \"What is a typical or central value in a dataset?\" These statistical tools are pivotal in summarizing a set of data by identifying a single value that reflects the center of its distribution. Below are the three primary measures of central tendency:\n",
    "\n",
    "### Mean\n",
    "\n",
    "- **Definition:** The **mean** is calculated as the average value of all the numbers in a dataset. It represents the total sum of all values divided by the number of values in the dataset.\n",
    "- **Formula:** `Mean = Sum of all values / Number of values`\n",
    "- **Characteristics:** The mean is sensitive to outliers, which can skew its value away from the \"typical\" data point if those outliers are significantly higher or lower than the rest of the data.\n",
    "\n",
    "### Mode\n",
    "\n",
    "- **Definition:** The **mode** is the value that appears most frequently in a dataset. A dataset can have one mode (unimodal), more than one mode (bimodal or multimodal), or no mode at all if all values are unique.\n",
    "- **Usage:** The mode is particularly useful for categorical data, where we want to know which category is the most common.\n",
    "\n",
    "### Median\n",
    "\n",
    "- **Definition:** The **median** is the middle value in a dataset when it is ordered from smallest to largest. If the dataset has an even number of observations, the median is the average of the two middle numbers.\n",
    "- **Characteristics:** The median is less affected by outliers compared to the mean. This property makes it a more reliable measure of central tendency when the dataset contains extreme values.\n",
    "\n",
    "#### Impact of Outliers\n",
    "\n",
    "- **Median vs. Mean:** The median is preferred over the mean in skewed distributions due to its resistance to the influence of outliers.\n",
    "  - If `Median < Mean`, it indicates the presence of outliers with large values.\n",
    "  - If `Median > Mean`, it suggests the existence of outliers with small values.\n",
    "\n",
    "Understanding these measures of central tendency and how they are influenced by outliers is essential for accurately summarizing and interpreting data.\n"
   ]
  },
  {
   "cell_type": "code",
   "execution_count": 9,
   "id": "bda0fa27",
   "metadata": {},
   "outputs": [
    {
     "data": {
      "text/plain": [
       "np.float64(4207.057057057057)"
      ]
     },
     "execution_count": 9,
     "metadata": {},
     "output_type": "execute_result"
    }
   ],
   "source": [
    "penguins['body_mass_g'].mean()"
   ]
  },
  {
   "cell_type": "code",
   "execution_count": 10,
   "id": "f630b84d",
   "metadata": {},
   "outputs": [
    {
     "data": {
      "text/plain": [
       "np.float64(4050.0)"
      ]
     },
     "execution_count": 10,
     "metadata": {},
     "output_type": "execute_result"
    }
   ],
   "source": [
    "penguins['body_mass_g'].median()"
   ]
  },
  {
   "cell_type": "code",
   "execution_count": 11,
   "id": "4b04c780",
   "metadata": {},
   "outputs": [
    {
     "data": {
      "text/plain": [
       "0    3800.0\n",
       "Name: body_mass_g, dtype: float64"
      ]
     },
     "execution_count": 11,
     "metadata": {},
     "output_type": "execute_result"
    }
   ],
   "source": [
    "penguins['body_mass_g'].mode()"
   ]
  },
  {
   "cell_type": "code",
   "execution_count": 12,
   "id": "0f4ff98b",
   "metadata": {},
   "outputs": [
    {
     "data": {
      "image/png": "[encoded data removed]",
      "text/plain": [
       "<Figure size 800x600 with 1 Axes>"
      ]
     },
     "metadata": {},
     "output_type": "display_data"
    }
   ],
   "source": [
    "# let's look at penguins weights\n",
    "\n",
    "\n",
    "fig, ax = plt.subplots(figsize = (8, 6))\n",
    "\n",
    "sns.histplot(penguins['body_mass_g'], ax=ax)\n",
    "\n",
    "\n",
    "ax.vlines(penguins['body_mass_g'].mean(), 0, 70, linestyles='--', color='green', label='Mean')\n",
    "ax.vlines(penguins['body_mass_g'].median(), 0, 70, linestyles='--', color='purple', label='Median')\n",
    "ax.vlines(penguins['body_mass_g'].mode(), 0, 70, linestyles='--', color='orange', label='Mode')\n",
    "plt.legend()\n",
    "sns.despine()\n",
    "\n",
    "plt.show()"
   ]
  },
  {
   "cell_type": "markdown",
   "id": "3df599d6",
   "metadata": {},
   "source": []
  },
  {
   "cell_type": "markdown",
   "id": "459d990b",
   "metadata": {},
   "source": [
    "##  Measures of Dispersion (or Variability)\n",
    "\n",
    "Measures of dispersion are vital statistical tools that quantify the spread or variability within a set of data. They provide insight into how much the data fluctuates around a central value, offering a sense of the dataset's consistency or variability.\n",
    "\n",
    "### Understanding Dispersion\n",
    "\n",
    "- **Conceptual Foundation:** Dispersion measures address the question of how far the values within a dataset diverge from the central tendency measures (mean, median, and mode).\n",
    "- **Practical Relevance:** Analyzing dispersion is crucial for understanding the reliability of the measures of central tendency. For example, an average value might not be as representative of a dataset with high variability as it would be for a dataset with low variability.\n",
    "\n",
    "### Key Measures of Dispersion\n",
    "\n",
    "The most commonly used measures of dispersion in statistics are the **Standard Deviation (std)** and the **Variance**.\n",
    "\n",
    "#### Variance\n",
    "\n",
    "- **Definition:** Variance quantifies the average squared deviation of each number from the mean of the data set. It provides a measure of how data points differ from the mean.\n",
    "- **Formula:** The variance (\\( \\sigma^2 \\)) is calculated as the average of the squared differences from the Mean.\n",
    "  \n",
    "  ```plaintext\n",
    "  Variance (σ²) = Σ(X - μ)² / N\n",
    "    ```\n",
    "    \n",
    "    \n",
    "    \n",
    "### Standard Deviation\n",
    "\n",
    "Connection to Variance: The standard deviation is the square root of the variance, which mathematically symbolizes a re-scaling of the variance back to the original unit of measure.\n",
    "Interpretation: The standard deviation provides a measure of the average distance between the values of the dataset and the mean. As it is in the same units as the data, it allows for a more intuitive understanding of variability.\n",
    "\n",
    "\n",
    "  ```plaintext\n",
    "Standard Deviation (σ) = √(Variance)\n",
    "\n",
    "  ```\n",
    "\n",
    "\n",
    "### The Range\n",
    "In addition to variance and standard deviation, the range is another simple measure of dispersion. It represents the difference between the highest and the lowest values in the data set, offering a quick snapshot of the spread.\n",
    "\n",
    "Simplicity: The range is straightforward to calculate and can be particularly valuable in preliminary analysis to gauge the variability of the data.\n",
    "Limitations: However, the range is extremely sensitive to outliers. Anomalously high or low values can disproportionately impact the range, potentially misrepresenting the dataset's true variability.\n",
    "Insight: Despite its limitations, the range can be a useful initial step in understanding data dispersion. It doesn't provide details about the distribution of values between the extremes, but it does offer a starting point for more detailed analysis.\n"
   ]
  },
  {
   "cell_type": "code",
   "execution_count": 13,
   "id": "dd8a4ac1",
   "metadata": {},
   "outputs": [
    {
     "data": {
      "text/plain": [
       "np.float64(2700.0)"
      ]
     },
     "execution_count": 13,
     "metadata": {},
     "output_type": "execute_result"
    }
   ],
   "source": [
    " penguins['body_mass_g'].min()   #minimum value"
   ]
  },
  {
   "cell_type": "code",
   "execution_count": 14,
   "id": "15aa4266",
   "metadata": {},
   "outputs": [
    {
     "data": {
      "text/plain": [
       "np.float64(6300.0)"
      ]
     },
     "execution_count": 14,
     "metadata": {},
     "output_type": "execute_result"
    }
   ],
   "source": [
    "penguins['body_mass_g'].max() #maximum value"
   ]
  },
  {
   "cell_type": "code",
   "execution_count": 15,
   "id": "697b7578",
   "metadata": {},
   "outputs": [
    {
     "data": {
      "text/plain": [
       "np.float64(3600.0)"
      ]
     },
     "execution_count": 15,
     "metadata": {},
     "output_type": "execute_result"
    }
   ],
   "source": [
    "penguins['body_mass_g'].max() -  penguins['body_mass_g'].min() #range"
   ]
  },
  {
   "cell_type": "code",
   "execution_count": 16,
   "id": "07e35e50",
   "metadata": {},
   "outputs": [
    {
     "data": {
      "text/plain": [
       "np.float64(805.2158019428964)"
      ]
     },
     "execution_count": 16,
     "metadata": {},
     "output_type": "execute_result"
    }
   ],
   "source": [
    "penguins['body_mass_g'].std()  # standard deviation"
   ]
  },
  {
   "cell_type": "markdown",
   "id": "e253fddb",
   "metadata": {},
   "source": [
    "## Quantile"
   ]
  },
  {
   "cell_type": "markdown",
   "id": "f74ca37e",
   "metadata": {},
   "source": [
    "A quantile is a statistical term that refers to the division of a probability distribution into intervals with equal probabilities or, in the case of a dataset, it refers to the division of the data into equal-sized subsets based upon their values. Essentially, quantiles are points in your data below which a certain proportion of the data falls."
   ]
  },
  {
   "cell_type": "code",
   "execution_count": 17,
   "id": "4fcb7afe",
   "metadata": {},
   "outputs": [
    {
     "data": {
      "text/plain": [
       "0.1    3300.0\n",
       "0.9    5440.0\n",
       "Name: body_mass_g, dtype: float64"
      ]
     },
     "execution_count": 17,
     "metadata": {},
     "output_type": "execute_result"
    }
   ],
   "source": [
    "penguins['body_mass_g'].quantile([0.1,0.9])"
   ]
  },
  {
   "cell_type": "markdown",
   "id": "11347341",
   "metadata": {},
   "source": [
    "--------------------------------"
   ]
  },
  {
   "cell_type": "code",
   "execution_count": 18,
   "id": "298be06f",
   "metadata": {
    "scrolled": true
   },
   "outputs": [
    {
     "data": {
      "text/plain": [
       "count     333.000000\n",
       "mean     4207.057057\n",
       "std       805.215802\n",
       "min      2700.000000\n",
       "25%      3550.000000\n",
       "50%      4050.000000\n",
       "75%      4775.000000\n",
       "max      6300.000000\n",
       "Name: body_mass_g, dtype: float64"
      ]
     },
     "execution_count": 18,
     "metadata": {},
     "output_type": "execute_result"
    }
   ],
   "source": [
    "penguins['body_mass_g'].describe()"
   ]
  },
  {
   "cell_type": "code",
   "execution_count": 19,
   "id": "cae5d86c",
   "metadata": {},
   "outputs": [
    {
     "data": {
      "image/png": "[encoded data removed]",
      "text/plain": [
       "<Figure size 640x480 with 1 Axes>"
      ]
     },
     "metadata": {},
     "output_type": "display_data"
    }
   ],
   "source": [
    "penguins.boxplot('body_mass_g')\n",
    "\n",
    "plt.show()"
   ]
  },
  {
   "cell_type": "markdown",
   "id": "fee70a1b",
   "metadata": {},
   "source": [
    "## Boxplot explanation"
   ]
  },
  {
   "attachments": {
    "boxplot.png": {
     "image/png": "[encoded data removed]"
    }
   },
   "cell_type": "markdown",
   "id": "69c33e57",
   "metadata": {},
   "source": [
    "![boxplot.png](attachment:boxplot.png)"
   ]
  },
  {
   "cell_type": "markdown",
   "id": "b41a642f",
   "metadata": {},
   "source": [
    "# Correlation"
   ]
  },
  {
   "cell_type": "markdown",
   "id": "8e53bd06",
   "metadata": {},
   "source": [
    "+ Mutual relationship or connection between two or more variables: values from -1 : 1\n",
    "+ Describes the strength of linear relationship between two variables\n",
    "+ The coef. is close to 1 if large positive values of one variable correspond to large positive values of the other.\n",
    "+ 0 no correlation or linear relationship\n",
    "+ The coef. is close to -1 if large positive values of one variable correspond to large negative values of the other."
   ]
  },
  {
   "cell_type": "markdown",
   "id": "9476d656",
   "metadata": {},
   "source": [
    "### Never forget: Correlation doesn't imply causation!"
   ]
  },
  {
   "cell_type": "markdown",
   "id": "a8248e61",
   "metadata": {},
   "source": [
    "## Pearson Correlation\n",
    "\n",
    "- Linear relationship between variables\n"
   ]
  },
  {
   "cell_type": "code",
   "execution_count": 20,
   "id": "aa6c52b4",
   "metadata": {},
   "outputs": [],
   "source": [
    "pearsoncorr = penguins.corr(method='pearson', numeric_only = True)"
   ]
  },
  {
   "cell_type": "code",
   "execution_count": 21,
   "id": "dd8652df",
   "metadata": {},
   "outputs": [
    {
     "data": {
      "text/plain": [
       "<Axes: >"
      ]
     },
     "execution_count": 21,
     "metadata": {},
     "output_type": "execute_result"
    },
    {
     "data": {
      "image/png": "[encoded data removed]",
      "text/plain": [
       "<Figure size 800x600 with 2 Axes>"
      ]
     },
     "metadata": {},
     "output_type": "display_data"
    }
   ],
   "source": [
    "ax =plt.subplots(figsize=(8,6))\n",
    "sns.heatmap(pearsoncorr, \n",
    "            xticklabels=pearsoncorr.columns,\n",
    "            yticklabels=pearsoncorr.columns,\n",
    "            cmap='Greens',\n",
    "            annot=True)"
   ]
  },
  {
   "cell_type": "code",
   "execution_count": null,
   "id": "6ae883f9",
   "metadata": {},
   "outputs": [],
   "source": []
  }
 ],
 "metadata": {
  "kernelspec": {
   "display_name": "Python 3 (ipykernel)",
   "language": "python",
   "name": "python3"
  },
  "language_info": {
   "codemirror_mode": {
    "name": "ipython",
    "version": 3
   },
   "file_extension": ".py",
   "mimetype": "text/x-python",
   "name": "python",
   "nbconvert_exporter": "python",
   "pygments_lexer": "ipython3",
   "version": "3.12.4"
  }
 },
 "nbformat": 4,
 "nbformat_minor": 5
}
